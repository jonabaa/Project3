{
 "cells": [
  {
   "cell_type": "code",
   "execution_count": 1,
   "metadata": {},
   "outputs": [
    {
     "name": "stderr",
     "output_type": "stream",
     "text": [
      "C:\\Users\\Admin\\Anaconda3\\lib\\site-packages\\h5py\\__init__.py:36: FutureWarning: Conversion of the second argument of issubdtype from `float` to `np.floating` is deprecated. In future, it will be treated as `np.float64 == np.dtype(float).type`.\n",
      "  from ._conv import register_converters as _register_converters\n"
     ]
    }
   ],
   "source": [
    "import numpy as np\n",
    "import pandas as pd\n",
    "import re\n",
    "import tensorflow as tf\n",
    "from sklearn.model_selection import train_test_split\n",
    "import matplotlib.pyplot as plt\n",
    "import random\n",
    "from sklearn.metrics import r2_score, mean_squared_error, accuracy_score, log_loss\n",
    "from sklearn import svm #support vector machines\n",
    "from sklearn.feature_extraction.text import CountVectorizer"
   ]
  },
  {
   "cell_type": "code",
   "execution_count": 2,
   "metadata": {},
   "outputs": [
    {
     "name": "stdout",
     "output_type": "stream",
     "text": [
      "An example of what the data looks like:\n",
      "\n",
      "            cuisine     id                                        ingredients\n",
      "0             greek  10259  [romaine lettuce, black olives, grape tomatoes...\n",
      "1       southern_us  25693  [plain flour, ground pepper, salt, tomatoes, g...\n",
      "2          filipino  20130  [eggs, pepper, salt, mayonaise, cooking oil, g...\n",
      "3            indian  22213                [water, vegetable oil, wheat, salt]\n",
      "4            indian  13162  [black pepper, shallots, cornflour, cayenne pe...\n",
      "5          jamaican   6602  [plain flour, sugar, butter, eggs, fresh ginge...\n",
      "6           spanish  42779  [olive oil, salt, medium shrimp, pepper, garli...\n",
      "7           italian   3735  [sugar, pistachio nuts, white almond bark, flo...\n",
      "8           mexican  16903  [olive oil, purple onion, fresh pineapple, por...\n",
      "9           italian  12734  [chopped tomatoes, fresh basil, garlic, extra-...\n",
      "10          italian   5875  [pimentos, sweet pepper, dried oregano, olive ...\n",
      "11          chinese  45887  [low sodium soy sauce, fresh ginger, dry musta...\n",
      "12          italian   2698  [Italian parsley leaves, walnuts, hot red pepp...\n",
      "13          mexican  41995  [ground cinnamon, fresh cilantro, chili powder...\n",
      "14          italian  31908  [fresh parmesan cheese, butter, all-purpose fl...\n",
      "15           indian  24717  [tumeric, vegetable stock, tomatoes, garam mas...\n",
      "16          british  34466  [greek yogurt, lemon curd, confectioners sugar...\n",
      "17          italian   1420  [italian seasoning, broiler-fryer chicken, may...\n",
      "18             thai   2941   [sugar, hot chili, asian fish sauce, lime juice]\n",
      "19       vietnamese   8152  [soy sauce, vegetable oil, red bell pepper, ch...\n",
      "20             thai  13121  [pork loin, roasted peanuts, chopped cilantro ...\n",
      "21          mexican  40523  [roma tomatoes, kosher salt, purple onion, jal...\n",
      "22      southern_us  40989  [low-fat mayonnaise, pepper, salt, baking pota...\n",
      "23          chinese  29630  [sesame seeds, red pepper, yellow peppers, wat...\n",
      "24          italian  49136  [marinara sauce, flat leaf parsley, olive oil,...\n",
      "25          chinese  26705  [sugar, lo mein noodles, salt, chicken broth, ...\n",
      "26     cajun_creole  27976  [herbs, lemon juice, fresh tomatoes, paprika, ...\n",
      "27          italian  22087  [ground black pepper, butter, sliced mushrooms...\n",
      "28          chinese   9197  [green bell pepper, egg roll wrappers, sweet a...\n",
      "29          mexican   1299  [flour tortillas, cheese, breakfast sausages, ...\n",
      "...             ...    ...                                                ...\n",
      "39744         greek   5680  [extra-virgin olive oil, oregano, potatoes, ga...\n",
      "39745       spanish   5511  [quinoa, extra-virgin olive oil, fresh thyme l...\n",
      "39746        indian  32051  [clove, bay leaves, ginger, chopped cilantro, ...\n",
      "39747      moroccan   5119  [water, sugar, grated lemon zest, butter, pitt...\n",
      "39748       italian   9526  [sea salt, pizza doughs, all-purpose flour, co...\n",
      "39749       mexican  45599  [kosher salt, minced onion, tortilla chips, su...\n",
      "39750       mexican  49670  [ground black pepper, chicken breasts, salsa, ...\n",
      "39751      moroccan  30735  [olive oil, cayenne pepper, chopped cilantro f...\n",
      "39752   southern_us   5911  [self rising flour, milk, white sugar, butter,...\n",
      "39753       italian  33294  [rosemary sprigs, lemon zest, garlic cloves, g...\n",
      "39754    vietnamese  27082  [jasmine rice, bay leaves, sticky rice, rotiss...\n",
      "39755        indian  36337  [mint leaves, cilantro leaves, ghee, tomatoes,...\n",
      "39756       mexican  15508  [vegetable oil, cinnamon sticks, water, all-pu...\n",
      "39757         greek  34331  [red bell pepper, garlic cloves, extra-virgin ...\n",
      "39758         greek  47387  [milk, salt, ground cayenne pepper, ground lam...\n",
      "39759        korean  12153  [red chili peppers, sea salt, onions, water, c...\n",
      "39760   southern_us  41840  [butter, large eggs, cornmeal, baking powder, ...\n",
      "39761       chinese   6487  [honey, chicken breast halves, cilantro leaves...\n",
      "39762        indian  26646  [curry powder, salt, chicken, water, vegetable...\n",
      "39763       italian  44798  [fettuccine pasta, low-fat cream cheese, garli...\n",
      "39764       mexican   8089  [chili powder, worcestershire sauce, celery, r...\n",
      "39765        indian   6153  [coconut, unsweetened coconut milk, mint leave...\n",
      "39766         irish  25557  [rutabaga, ham, thick-cut bacon, potatoes, fre...\n",
      "39767       italian  24348  [low-fat sour cream, grated parmesan cheese, s...\n",
      "39768       mexican   7377  [shredded cheddar cheese, crushed cheese crack...\n",
      "39769         irish  29109  [light brown sugar, granulated sugar, butter, ...\n",
      "39770       italian  11462  [KRAFT Zesty Italian Dressing, purple onion, b...\n",
      "39771         irish   2238  [eggs, citrus fruit, raisins, sourdough starte...\n",
      "39772       chinese  41882  [boneless chicken skinless thigh, minced garli...\n",
      "39773       mexican   2362  [green chile, jalapeno chilies, onions, ground...\n",
      "\n",
      "[39774 rows x 3 columns]\n",
      "\n",
      "Here the number of recepies of each cuisine\n",
      "\n",
      "italian         7838\n",
      "mexican         6438\n",
      "southern_us     4320\n",
      "indian          3003\n",
      "chinese         2673\n",
      "french          2646\n",
      "cajun_creole    1546\n",
      "thai            1539\n",
      "japanese        1423\n",
      "greek           1175\n",
      "spanish          989\n",
      "korean           830\n",
      "vietnamese       825\n",
      "moroccan         821\n",
      "british          804\n",
      "filipino         755\n",
      "irish            667\n",
      "jamaican         526\n",
      "russian          489\n",
      "brazilian        467\n",
      "Name: cuisine, dtype: int64\n"
     ]
    }
   ],
   "source": [
    "data = pd.read_json('train.json') \n",
    "\n",
    "print(\"An example of what the data looks like:\")\n",
    "print(\"\")\n",
    "print(data)\n",
    "\n",
    "print(\"\")\n",
    "print(\"Here the number of recepies of each cuisine\")\n",
    "print(\"\")\n",
    "print(data['cuisine'].value_counts())"
   ]
  },
  {
   "cell_type": "code",
   "execution_count": 3,
   "metadata": {},
   "outputs": [
    {
     "name": "stdout",
     "output_type": "stream",
     "text": [
      "(39774, 3051)\n"
     ]
    }
   ],
   "source": [
    "recipie_list_list = data.ingredients.values.tolist()\n",
    "recipie_string_list = [\" \".join(ing) for ing in recipie_list_list]\n",
    "vectorizer = CountVectorizer()\n",
    "X = vectorizer.fit_transform(recipie_string_list)\n",
    "print(X.shape)"
   ]
  },
  {
   "cell_type": "code",
   "execution_count": 15,
   "metadata": {},
   "outputs": [
    {
     "name": "stdout",
     "output_type": "stream",
     "text": [
      "romaine lettuce black olives grape tomatoes garlic pepper purple onion seasoning garbanzo beans feta cheese crumbles\n",
      "\n",
      "plain flour ground pepper salt tomatoes ground black pepper thyme eggs green tomatoes yellow corn meal milk vegetable oil\n",
      "\n",
      "eggs pepper salt mayonaise cooking oil green chilies grilled chicken breasts garlic powder yellow onion soy sauce butter chicken livers\n",
      "\n",
      "water vegetable oil wheat salt\n",
      "\n",
      "black pepper shallots cornflour cayenne pepper onions garlic paste milk butter salt lemon juice water chili powder passata oil ground cumin boneless chicken skinless thigh garam masala double cream natural yogurt bay leaf\n",
      "\n",
      "\n",
      "The matrix looks like this:\n",
      "[[0 1 1 1 1 0 0 0 0 0 0 0 0 0 0 0 0 0 1 0 0 0 0 0 0 0 0 0 0 0 0 0 0 0 0 0\n",
      "  0 0 0 0 0 0 0 0 1 1 0 0 0 0 1 1 0 0 1 1 0 0 1 1 0 0 0 0 0 0 0 0 0 0 0 0\n",
      "  0 0 0 0 1 1 0 0 0 0 0 0 0 0 0 0 0 0 0 0 0 0 0 0 1 1 1 1 0 0 0 0 0 0 0 0\n",
      "  0 0 1 1 0 0 0 0 0 0 0 0 0 0 0 0 0 1 1 1 1 0 0 0 0 0 0 0 0 1 1 0 0 0 0 0\n",
      "  0 0 0 0 0 1 1 0 0 0 0 0 0 0 0 0 0 0 0 0 0 0 0 0]\n",
      " [0 0 0 0 0 1 0 1 0 0 0 0 0 0 0 0 0 0 0 0 0 0 0 0 0 0 0 0 0 0 1 1 0 0 0 0\n",
      "  0 0 0 0 1 1 0 0 0 0 1 1 0 0 0 0 0 0 0 0 0 0 0 0 0 0 1 1 0 0 1 1 0 0 1 1\n",
      "  0 0 0 0 0 0 0 0 0 0 1 1 0 0 1 1 0 0 0 0 0 0 0 0 0 0 0 0 0 0 0 0 0 0 0 0\n",
      "  0 0 0 0 1 0 1 0 0 1 1 1 1 0 0 0 0 0 0 0 0 0 0 0 0 1 1 0 0 0 0 0 0 0 0 0\n",
      "  0 0 0 1 1 0 0 1 1 1 1 1 0 0 0 0 0 0 1 1 0 0 0 0]\n",
      " [0 0 0 0 0 0 0 0 0 0 1 1 1 1 0 0 0 0 0 1 1 1 0 0 0 0 1 1 1 1 0 0 0 0 0 0\n",
      "  0 0 0 0 0 0 1 1 0 0 0 0 0 0 0 0 0 0 0 0 1 1 0 0 1 1 0 0 1 1 0 0 0 0 0 0\n",
      "  0 0 0 0 0 0 0 0 1 1 0 0 0 0 0 0 0 0 1 1 0 0 0 0 0 0 0 0 1 1 0 0 0 0 0 0\n",
      "  0 0 0 0 1 1 0 0 0 0 0 0 0 0 0 1 1 0 0 0 0 0 0 1 1 0 0 1 1 0 0 0 0 0 0 1\n",
      "  1 0 0 0 0 0 0 0 0 0 0 0 0 0 0 0 0 0 0 0 1 1 0 0]\n",
      " [0 0 0 0 0 0 0 0 0 0 0 0 0 0 0 0 0 0 0 0 0 0 0 0 0 0 0 0 0 0 0 0 0 0 0 0\n",
      "  0 0 0 0 0 0 0 0 0 0 0 0 0 0 0 0 0 0 0 0 0 0 0 0 0 0 0 0 0 0 0 0 0 0 0 0\n",
      "  0 0 0 0 0 0 0 0 0 0 0 0 0 0 0 0 0 0 0 0 0 0 1 1 0 0 0 0 0 0 0 0 0 0 0 0\n",
      "  0 0 0 0 0 0 0 0 0 0 0 0 0 0 0 0 0 0 0 0 0 0 0 0 0 0 0 0 0 0 0 0 0 0 0 0\n",
      "  0 0 0 0 0 0 0 0 0 0 0 1 1 0 0 1 1 1 0 0 0 0 0 0]\n",
      " [1 0 0 0 0 1 1 0 1 1 0 0 0 0 1 1 1 1 0 0 0 0 1 1 1 1 0 0 0 0 0 0 1 1 1 1\n",
      "  1 1 1 1 0 0 0 0 0 0 0 0 1 1 0 0 1 1 0 0 0 0 0 0 0 0 0 0 0 0 0 0 1 1 0 0\n",
      "  1 1 1 1 0 0 1 1 0 0 0 0 1 1 0 0 1 1 0 0 1 1 0 0 0 0 0 0 0 0 1 1 1 1 1 1\n",
      "  1 1 0 0 0 0 0 1 1 0 0 0 0 1 1 0 0 0 0 0 0 1 1 0 0 0 0 0 0 0 0 1 1 1 1 0\n",
      "  0 1 1 0 0 0 0 0 0 0 0 0 0 1 1 0 0 0 0 0 0 0 1 1]]\n",
      "\n",
      "The feature names are:\n",
      "['bay leaf', 'beans feta', 'beans feta cheese', 'black olives', 'black olives grape', 'black pepper', 'black pepper shallots', 'black pepper thyme', 'boneless chicken', 'boneless chicken skinless', 'breasts garlic', 'breasts garlic powder', 'butter chicken', 'butter chicken livers', 'butter salt', 'butter salt lemon', 'cayenne pepper', 'cayenne pepper onions', 'cheese crumbles', 'chicken breasts', 'chicken breasts garlic', 'chicken livers', 'chicken skinless', 'chicken skinless thigh', 'chili powder', 'chili powder passata', 'chilies grilled', 'chilies grilled chicken', 'cooking oil', 'cooking oil green', 'corn meal', 'corn meal milk', 'cornflour cayenne', 'cornflour cayenne pepper', 'cream natural', 'cream natural yogurt', 'cumin boneless', 'cumin boneless chicken', 'double cream', 'double cream natural', 'eggs green', 'eggs green tomatoes', 'eggs pepper', 'eggs pepper salt', 'feta cheese', 'feta cheese crumbles', 'flour ground', 'flour ground pepper', 'garam masala', 'garam masala double', 'garbanzo beans', 'garbanzo beans feta', 'garlic paste', 'garlic paste milk', 'garlic pepper', 'garlic pepper purple', 'garlic powder', 'garlic powder yellow', 'grape tomatoes', 'grape tomatoes garlic', 'green chilies', 'green chilies grilled', 'green tomatoes', 'green tomatoes yellow', 'grilled chicken', 'grilled chicken breasts', 'ground black', 'ground black pepper', 'ground cumin', 'ground cumin boneless', 'ground pepper', 'ground pepper salt', 'juice water', 'juice water chili', 'lemon juice', 'lemon juice water', 'lettuce black', 'lettuce black olives', 'masala double', 'masala double cream', 'mayonaise cooking', 'mayonaise cooking oil', 'meal milk', 'meal milk vegetable', 'milk butter', 'milk butter salt', 'milk vegetable', 'milk vegetable oil', 'natural yogurt', 'natural yogurt bay', 'oil green', 'oil green chilies', 'oil ground', 'oil ground cumin', 'oil wheat', 'oil wheat salt', 'olives grape', 'olives grape tomatoes', 'onion seasoning', 'onion seasoning garbanzo', 'onion soy', 'onion soy sauce', 'onions garlic', 'onions garlic paste', 'passata oil', 'passata oil ground', 'paste milk', 'paste milk butter', 'pepper onions', 'pepper onions garlic', 'pepper purple', 'pepper purple onion', 'pepper salt', 'pepper salt mayonaise', 'pepper salt tomatoes', 'pepper shallots', 'pepper shallots cornflour', 'pepper thyme', 'pepper thyme eggs', 'plain flour', 'plain flour ground', 'powder passata', 'powder passata oil', 'powder yellow', 'powder yellow onion', 'purple onion', 'purple onion seasoning', 'romaine lettuce', 'romaine lettuce black', 'salt lemon', 'salt lemon juice', 'salt mayonaise', 'salt mayonaise cooking', 'salt tomatoes', 'salt tomatoes ground', 'sauce butter', 'sauce butter chicken', 'seasoning garbanzo', 'seasoning garbanzo beans', 'shallots cornflour', 'shallots cornflour cayenne', 'skinless thigh', 'skinless thigh garam', 'soy sauce', 'soy sauce butter', 'thigh garam', 'thigh garam masala', 'thyme eggs', 'thyme eggs green', 'tomatoes garlic', 'tomatoes garlic pepper', 'tomatoes ground', 'tomatoes ground black', 'tomatoes yellow', 'tomatoes yellow corn', 'vegetable oil', 'vegetable oil wheat', 'water chili', 'water chili powder', 'water vegetable', 'water vegetable oil', 'wheat salt', 'yellow corn', 'yellow corn meal', 'yellow onion', 'yellow onion soy', 'yogurt bay', 'yogurt bay leaf']\n"
     ]
    }
   ],
   "source": [
    "head_recipie_list_list = (data.head()).ingredients.values.tolist()\n",
    "head_recipie_string_list = [\" \".join(ing) for ing in head_recipie_list_list]\n",
    "vectorizer = CountVectorizer( ngram_range = (2, 3) )\n",
    "head_X = vectorizer.fit_transform(head_recipie_string_list).toarray()\n",
    "\n",
    "for recipie in head_recipie_string_list :\n",
    "    print(recipie)\n",
    "    print(\"\")\n",
    "    \n",
    "print(\"\")\n",
    "print(\"The matrix looks like this:\")\n",
    "print(head_X)\n",
    "\n",
    "print(\"\")\n",
    "print(\"The feature names are:\")\n",
    "print(vectorizer.get_feature_names())\n",
    "    "
   ]
  }
 ],
 "metadata": {
  "kernelspec": {
   "display_name": "Python 3",
   "language": "python",
   "name": "python3"
  },
  "language_info": {
   "codemirror_mode": {
    "name": "ipython",
    "version": 3
   },
   "file_extension": ".py",
   "mimetype": "text/x-python",
   "name": "python",
   "nbconvert_exporter": "python",
   "pygments_lexer": "ipython3",
   "version": "3.6.5"
  }
 },
 "nbformat": 4,
 "nbformat_minor": 2
}
