{
 "cells": [
  {
   "cell_type": "code",
   "execution_count": 38,
   "metadata": {},
   "outputs": [],
   "source": [
    "import numpy as np\n",
    "import pandas as pd\n",
    "import re\n",
    "import tensorflow as tf\n",
    "from sklearn.model_selection import train_test_split\n",
    "import matplotlib\n",
    "import matplotlib.pyplot as plt\n",
    "from mpl_toolkits.axes_grid1 import make_axes_locatable\n",
    "import random\n",
    "from sklearn.metrics import r2_score, mean_squared_error, accuracy_score, log_loss\n",
    "from sklearn import svm #support vector machines\n",
    "from sklearn.feature_extraction.text import CountVectorizer\n",
    "\n",
    "from sklearn.model_selection import cross_val_score\n",
    "from sklearn.ensemble import RandomForestClassifier\n",
    "from sklearn.linear_model import LogisticRegression\n",
    "from sklearn.neural_network import MLPClassifier\n"
   ]
  },
  {
   "cell_type": "code",
   "execution_count": 3,
   "metadata": {},
   "outputs": [
    {
     "name": "stdout",
     "output_type": "stream",
     "text": [
      "An example of what the data looks like:\n",
      "\n",
      "            cuisine     id                                        ingredients\n",
      "0             greek  10259  [romaine lettuce, black olives, grape tomatoes...\n",
      "1       southern_us  25693  [plain flour, ground pepper, salt, tomatoes, g...\n",
      "2          filipino  20130  [eggs, pepper, salt, mayonaise, cooking oil, g...\n",
      "3            indian  22213                [water, vegetable oil, wheat, salt]\n",
      "4            indian  13162  [black pepper, shallots, cornflour, cayenne pe...\n",
      "5          jamaican   6602  [plain flour, sugar, butter, eggs, fresh ginge...\n",
      "6           spanish  42779  [olive oil, salt, medium shrimp, pepper, garli...\n",
      "7           italian   3735  [sugar, pistachio nuts, white almond bark, flo...\n",
      "8           mexican  16903  [olive oil, purple onion, fresh pineapple, por...\n",
      "9           italian  12734  [chopped tomatoes, fresh basil, garlic, extra-...\n",
      "10          italian   5875  [pimentos, sweet pepper, dried oregano, olive ...\n",
      "11          chinese  45887  [low sodium soy sauce, fresh ginger, dry musta...\n",
      "12          italian   2698  [Italian parsley leaves, walnuts, hot red pepp...\n",
      "13          mexican  41995  [ground cinnamon, fresh cilantro, chili powder...\n",
      "14          italian  31908  [fresh parmesan cheese, butter, all-purpose fl...\n",
      "15           indian  24717  [tumeric, vegetable stock, tomatoes, garam mas...\n",
      "16          british  34466  [greek yogurt, lemon curd, confectioners sugar...\n",
      "17          italian   1420  [italian seasoning, broiler-fryer chicken, may...\n",
      "18             thai   2941   [sugar, hot chili, asian fish sauce, lime juice]\n",
      "19       vietnamese   8152  [soy sauce, vegetable oil, red bell pepper, ch...\n",
      "20             thai  13121  [pork loin, roasted peanuts, chopped cilantro ...\n",
      "21          mexican  40523  [roma tomatoes, kosher salt, purple onion, jal...\n",
      "22      southern_us  40989  [low-fat mayonnaise, pepper, salt, baking pota...\n",
      "23          chinese  29630  [sesame seeds, red pepper, yellow peppers, wat...\n",
      "24          italian  49136  [marinara sauce, flat leaf parsley, olive oil,...\n",
      "25          chinese  26705  [sugar, lo mein noodles, salt, chicken broth, ...\n",
      "26     cajun_creole  27976  [herbs, lemon juice, fresh tomatoes, paprika, ...\n",
      "27          italian  22087  [ground black pepper, butter, sliced mushrooms...\n",
      "28          chinese   9197  [green bell pepper, egg roll wrappers, sweet a...\n",
      "29          mexican   1299  [flour tortillas, cheese, breakfast sausages, ...\n",
      "...             ...    ...                                                ...\n",
      "39744         greek   5680  [extra-virgin olive oil, oregano, potatoes, ga...\n",
      "39745       spanish   5511  [quinoa, extra-virgin olive oil, fresh thyme l...\n",
      "39746        indian  32051  [clove, bay leaves, ginger, chopped cilantro, ...\n",
      "39747      moroccan   5119  [water, sugar, grated lemon zest, butter, pitt...\n",
      "39748       italian   9526  [sea salt, pizza doughs, all-purpose flour, co...\n",
      "39749       mexican  45599  [kosher salt, minced onion, tortilla chips, su...\n",
      "39750       mexican  49670  [ground black pepper, chicken breasts, salsa, ...\n",
      "39751      moroccan  30735  [olive oil, cayenne pepper, chopped cilantro f...\n",
      "39752   southern_us   5911  [self rising flour, milk, white sugar, butter,...\n",
      "39753       italian  33294  [rosemary sprigs, lemon zest, garlic cloves, g...\n",
      "39754    vietnamese  27082  [jasmine rice, bay leaves, sticky rice, rotiss...\n",
      "39755        indian  36337  [mint leaves, cilantro leaves, ghee, tomatoes,...\n",
      "39756       mexican  15508  [vegetable oil, cinnamon sticks, water, all-pu...\n",
      "39757         greek  34331  [red bell pepper, garlic cloves, extra-virgin ...\n",
      "39758         greek  47387  [milk, salt, ground cayenne pepper, ground lam...\n",
      "39759        korean  12153  [red chili peppers, sea salt, onions, water, c...\n",
      "39760   southern_us  41840  [butter, large eggs, cornmeal, baking powder, ...\n",
      "39761       chinese   6487  [honey, chicken breast halves, cilantro leaves...\n",
      "39762        indian  26646  [curry powder, salt, chicken, water, vegetable...\n",
      "39763       italian  44798  [fettuccine pasta, low-fat cream cheese, garli...\n",
      "39764       mexican   8089  [chili powder, worcestershire sauce, celery, r...\n",
      "39765        indian   6153  [coconut, unsweetened coconut milk, mint leave...\n",
      "39766         irish  25557  [rutabaga, ham, thick-cut bacon, potatoes, fre...\n",
      "39767       italian  24348  [low-fat sour cream, grated parmesan cheese, s...\n",
      "39768       mexican   7377  [shredded cheddar cheese, crushed cheese crack...\n",
      "39769         irish  29109  [light brown sugar, granulated sugar, butter, ...\n",
      "39770       italian  11462  [KRAFT Zesty Italian Dressing, purple onion, b...\n",
      "39771         irish   2238  [eggs, citrus fruit, raisins, sourdough starte...\n",
      "39772       chinese  41882  [boneless chicken skinless thigh, minced garli...\n",
      "39773       mexican   2362  [green chile, jalapeno chilies, onions, ground...\n",
      "\n",
      "[39774 rows x 3 columns]\n",
      "\n",
      "Here the number of recepies of each cuisine\n",
      "\n",
      "italian         7838\n",
      "mexican         6438\n",
      "southern_us     4320\n",
      "indian          3003\n",
      "chinese         2673\n",
      "french          2646\n",
      "cajun_creole    1546\n",
      "thai            1539\n",
      "japanese        1423\n",
      "greek           1175\n",
      "spanish          989\n",
      "korean           830\n",
      "vietnamese       825\n",
      "moroccan         821\n",
      "british          804\n",
      "filipino         755\n",
      "irish            667\n",
      "jamaican         526\n",
      "russian          489\n",
      "brazilian        467\n",
      "Name: cuisine, dtype: int64\n"
     ]
    }
   ],
   "source": [
    "data = pd.read_json('train.json') \n",
    "\n",
    "print(\"An example of what the data looks like:\")\n",
    "print(\"\")\n",
    "print(data)\n",
    "\n",
    "print(\"\")\n",
    "print(\"Here the number of recepies of each cuisine\")\n",
    "print(\"\")\n",
    "print(data['cuisine'].value_counts())"
   ]
  },
  {
   "cell_type": "code",
   "execution_count": 11,
   "metadata": {},
   "outputs": [
    {
     "name": "stdout",
     "output_type": "stream",
     "text": [
      "(39774, 1781)\n"
     ]
    }
   ],
   "source": [
    "recipie_list_list = data.ingredients.values.tolist()\n",
    "recipie_string_list = [\" \".join(ing) for ing in recipie_list_list]\n",
    "vectorizer = CountVectorizer(min_df = 0.00013)\n",
    "X = vectorizer.fit_transform(recipie_string_list).toarray()\n",
    "print(X.shape)"
   ]
  },
  {
   "cell_type": "code",
   "execution_count": 9,
   "metadata": {},
   "outputs": [
    {
     "name": "stdout",
     "output_type": "stream",
     "text": [
      "romaine lettuce black olives grape tomatoes garlic pepper purple onion seasoning garbanzo beans feta cheese crumbles\n",
      "\n",
      "plain flour ground pepper salt tomatoes ground black pepper thyme eggs green tomatoes yellow corn meal milk vegetable oil\n",
      "\n",
      "eggs pepper salt mayonaise cooking oil green chilies grilled chicken breasts garlic powder yellow onion soy sauce butter chicken livers\n",
      "\n",
      "water vegetable oil wheat salt\n",
      "\n",
      "black pepper shallots cornflour cayenne pepper onions garlic paste milk butter salt lemon juice water chili powder passata oil ground cumin boneless chicken skinless thigh garam masala double cream natural yogurt bay leaf\n",
      "\n",
      "\n",
      "The matrix looks like this:\n",
      "[[0 1 1 0 0 0 0 1 0 0 0 0 0 0 0 1 0 0 0 1 0 0 1 1 1 0 0 0 0 0 0 1 0 0 0 0\n",
      "  0 0 0 1 1 0 0 0 1 0 0 1 1 0 0 1 0 0 0 0 0 1 0 0 0 0 0]\n",
      " [0 0 1 0 0 0 0 0 0 0 0 0 1 0 0 0 0 0 1 0 1 0 0 0 0 1 0 2 0 0 0 0 0 0 0 1\n",
      "  1 0 1 0 0 0 0 0 2 1 0 0 0 1 0 0 0 0 0 0 1 2 1 0 0 1 0]\n",
      " [0 0 0 0 1 1 0 0 2 0 1 1 0 0 0 0 0 0 1 0 0 0 0 1 0 1 1 0 0 0 0 0 1 0 1 0\n",
      "  0 0 1 0 1 0 0 0 1 0 1 0 0 1 1 0 0 0 1 0 0 0 0 0 0 1 0]\n",
      " [0 0 0 0 0 0 0 0 0 0 0 0 0 0 0 0 0 0 0 0 0 0 0 0 0 0 0 0 0 0 0 0 0 0 0 0\n",
      "  0 0 1 0 0 0 0 0 0 0 0 0 0 1 0 0 0 0 0 0 0 0 1 1 1 0 0]\n",
      " [1 0 1 1 0 1 1 0 1 1 0 0 0 1 1 0 1 1 0 0 0 1 0 1 0 0 0 1 1 1 1 0 0 1 0 0\n",
      "  1 1 1 0 0 1 1 1 2 0 1 0 0 1 0 0 1 1 0 1 0 0 0 1 0 0 1]]\n",
      "\n",
      "The feature names are:\n",
      "['bay', 'beans', 'black', 'boneless', 'breasts', 'butter', 'cayenne', 'cheese', 'chicken', 'chili', 'chilies', 'cooking', 'corn', 'cornflour', 'cream', 'crumbles', 'cumin', 'double', 'eggs', 'feta', 'flour', 'garam', 'garbanzo', 'garlic', 'grape', 'green', 'grilled', 'ground', 'juice', 'leaf', 'lemon', 'lettuce', 'livers', 'masala', 'mayonaise', 'meal', 'milk', 'natural', 'oil', 'olives', 'onion', 'onions', 'passata', 'paste', 'pepper', 'plain', 'powder', 'purple', 'romaine', 'salt', 'sauce', 'seasoning', 'shallots', 'skinless', 'soy', 'thigh', 'thyme', 'tomatoes', 'vegetable', 'water', 'wheat', 'yellow', 'yogurt']\n"
     ]
    }
   ],
   "source": [
    "head_recipie_list_list = (data.head()).ingredients.values.tolist()\n",
    "head_recipie_string_list = [\" \".join(ing) for ing in head_recipie_list_list]\n",
    "vectorizer = CountVectorizer( ngram_range = (1, 1) )\n",
    "head_X = vectorizer.fit_transform(head_recipie_string_list).toarray()\n",
    "\n",
    "for recipie in head_recipie_string_list :\n",
    "    print(recipie)\n",
    "    print(\"\")\n",
    "    \n",
    "print(\"\")\n",
    "print(\"The matrix looks like this:\")\n",
    "print(head_X)\n",
    "\n",
    "print(\"\")\n",
    "print(\"The feature names are:\")\n",
    "print(vectorizer.get_feature_names())\n",
    "    "
   ]
  },
  {
   "cell_type": "markdown",
   "metadata": {},
   "source": [
    "# Heat map code"
   ]
  },
  {
   "cell_type": "code",
   "execution_count": 2,
   "metadata": {},
   "outputs": [],
   "source": [
    "############## This is code to do neat plotting, taken from:\n",
    "# https://matplotlib.org/gallery/images_contours_and_fields/image_annotated_heatmap.html#sphx-glr-gallery-images-contours-and-fields-image-annotated-heatmap-py\n",
    "############################################################################\n",
    "############################################################################\n",
    "############################################################################\n",
    "def heatmap(data, row_labels, col_labels, ax=None,\n",
    "            cbar_kw={}, cbarlabel=\"\", **kwargs):\n",
    "    \"\"\"\n",
    "    Create a heatmap from a numpy array and two lists of labels.\n",
    "\n",
    "    Arguments:\n",
    "        data       : A 2D numpy array of shape (N,M)\n",
    "        row_labels : A list or array of length N with the labels\n",
    "                     for the rows\n",
    "        col_labels : A list or array of length M with the labels\n",
    "                     for the columns\n",
    "    Optional arguments:\n",
    "        ax         : A matplotlib.axes.Axes instance to which the heatmap\n",
    "                     is plotted. If not provided, use current axes or\n",
    "                     create a new one.\n",
    "        cbar_kw    : A dictionary with arguments to\n",
    "                     :meth:`matplotlib.Figure.colorbar`.\n",
    "        cbarlabel  : The label for the colorbar\n",
    "    All other arguments are directly passed on to the imshow call.\n",
    "    \"\"\"\n",
    "\n",
    "    if not ax:\n",
    "        ax = plt.gca()\n",
    "\n",
    "    # Plot the heatmap\n",
    "    im = ax.imshow(data, **kwargs)\n",
    "\n",
    "    # Create colorbar\n",
    "    cbar = ax.figure.colorbar(im, ax=ax, **cbar_kw)\n",
    "    cbar.ax.set_ylabel(cbarlabel, rotation=-90, va=\"bottom\")\n",
    "\n",
    "    # We want to show all ticks...\n",
    "    ax.set_xticks(np.arange(data.shape[1]))\n",
    "    ax.set_yticks(np.arange(data.shape[0]))\n",
    "    # ... and label them with the respective list entries.\n",
    "    ax.set_xticklabels(col_labels)\n",
    "    ax.set_yticklabels(row_labels)\n",
    "\n",
    "    # Let the horizontal axes labeling appear on top.\n",
    "    ax.tick_params(top=True, bottom=False,\n",
    "                   labeltop=True, labelbottom=False)\n",
    "\n",
    "    # Rotate the tick labels and set their alignment.\n",
    "    plt.setp(ax.get_xticklabels(), rotation=-30, ha=\"right\",\n",
    "             rotation_mode=\"anchor\")\n",
    "\n",
    "    # Turn spines off and create white grid.\n",
    "    for edge, spine in ax.spines.items():\n",
    "        spine.set_visible(False)\n",
    "\n",
    "    ax.set_xticks(np.arange(data.shape[1]+1)-.5, minor=True)\n",
    "    ax.set_yticks(np.arange(data.shape[0]+1)-.5, minor=True)\n",
    "    ax.grid(which=\"minor\", color=\"w\", linestyle='-', linewidth=3)\n",
    "    ax.tick_params(which=\"minor\", bottom=False, left=False)\n",
    "\n",
    "    return im, cbar\n",
    "\n",
    "\n",
    "def annotate_heatmap(im, data=None, valfmt=\"{x:.2f}\",\n",
    "                     textcolors=[\"black\", \"white\"],\n",
    "                     threshold=None, **textkw):\n",
    "    \"\"\"\n",
    "    A function to annotate a heatmap.\n",
    "\n",
    "    Arguments:\n",
    "        im         : The AxesImage to be labeled.\n",
    "    Optional arguments:\n",
    "        data       : Data used to annotate. If None, the image's data is used.\n",
    "        valfmt     : The format of the annotations inside the heatmap.\n",
    "                     This should either use the string format method, e.g.\n",
    "                     \"$ {x:.2f}\", or be a :class:`matplotlib.ticker.Formatter`.\n",
    "        textcolors : A list or array of two color specifications. The first is\n",
    "                     used for values below a threshold, the second for those\n",
    "                     above.\n",
    "        threshold  : Value in data units according to which the colors from\n",
    "                     textcolors are applied. If None (the default) uses the\n",
    "                     middle of the colormap as separation.\n",
    "\n",
    "    Further arguments are passed on to the created text labels.\n",
    "    \"\"\"\n",
    "\n",
    "    if not isinstance(data, (list, np.ndarray)):\n",
    "        data = im.get_array()\n",
    "\n",
    "    # Normalize the threshold to the images color range.\n",
    "    if threshold is not None:\n",
    "        threshold = im.norm(threshold)\n",
    "    else:\n",
    "        threshold = im.norm(data.max())/2.\n",
    "\n",
    "    # Set default alignment to center, but allow it to be\n",
    "    # overwritten by textkw.\n",
    "    kw = dict(horizontalalignment=\"center\",\n",
    "              verticalalignment=\"center\")\n",
    "    kw.update(textkw)\n",
    "\n",
    "    # Get the formatter in case a string is supplied\n",
    "    if isinstance(valfmt, str):\n",
    "        valfmt = matplotlib.ticker.StrMethodFormatter(valfmt)\n",
    "\n",
    "    # Loop over the data and create a `Text` for each \"pixel\".\n",
    "    # Change the text's color depending on the data.\n",
    "    texts = []\n",
    "    for i in range(data.shape[0]):\n",
    "        for j in range(data.shape[1]):\n",
    "            kw.update(color=textcolors[im.norm(data[i, j]) > threshold])\n",
    "            text = im.axes.text(j, i, valfmt(data[i, j], None), **kw)\n",
    "            texts.append(text)\n",
    "\n",
    "    return texts\n",
    "\n",
    "############################################################################\n",
    "############################################################################\n",
    "############################################################################\n",
    "##### plotting code over\n"
   ]
  },
  {
   "cell_type": "code",
   "execution_count": 17,
   "metadata": {},
   "outputs": [
    {
     "name": "stderr",
     "output_type": "stream",
     "text": [
      "C:\\Users\\Admin\\Anaconda3\\lib\\site-packages\\ipykernel_launcher.py:111: DeprecationWarning: In future, it will be an error for 'np.bool_' scalars to be interpreted as an index\n"
     ]
    },
    {
     "data": {
      "image/png": "[encoded data removed]",
      "text/plain": [
       "<Figure size 432x288 with 2 Axes>"
      ]
     },
     "metadata": {},
     "output_type": "display_data"
    }
   ],
   "source": [
    "# now plot the mses in a heat map\n",
    "fig, ax = plt.subplots()\n",
    "im, cbar = heatmap(np.array([56,67]).reshape(1,2), np.array([1]), np.array([0.001, 00.1]) , ax=ax, cmap=\"YlGn\", cbarlabel=\"MSE\")\n",
    "texts = annotate_heatmap(im, valfmt=\"{x:.4f}\")\n",
    "fig.tight_layout()\n",
    "plt.show()\n"
   ]
  },
  {
   "cell_type": "code",
   "execution_count": 41,
   "metadata": {},
   "outputs": [],
   "source": [
    "def get_design_matrix(cleaning_function = lambda x : x, min_df = 0.0, max_df = 1.0) :\n",
    "    \"\"\"\n",
    "    Take a data frame data, and convert to a matrix. \n",
    "    Use cleaning_function to clear up data. \n",
    "    \"\"\"\n",
    "    data = pd.read_json('train.json') \n",
    "    recipie_list_list = data.ingredients.values.tolist()\n",
    "    recipie_string_list = [cleaning_function(\" \".join(ing)) for ing in recipie_list_list]\n",
    "    vectorizer = CountVectorizer(min_df = min_df, max_df = max_df)\n",
    "    X = vectorizer.fit_transform(recipie_string_list)\n",
    "    y = data.cuisine.values\n",
    "    return X, y, vectorizer.get_feature_names()\n",
    "\n",
    "\n",
    "def clean(s) :\n",
    "    s = s.replace(\"-\", \" \")\n",
    "    return s.replace(\"33\", \"\")\n",
    "\n",
    "\n",
    "def clf_cross_validator(X_train, y_train, clf_constructor, p_list, q_list = [], folds = 10, plot = False, label = '') :\n",
    "    \"\"\"\n",
    "    A general method to preform cross validation of sci_kit learn method. \n",
    "    Takes:\n",
    "    Training data (X_train, y_train)\n",
    "    A function clf_constructor which builds a sci_kit learn classifier\n",
    "    p_list a list of parameters to varry\n",
    "    q_list a possible second list to varry, \n",
    "    folds the number of folds to use for cross validation\n",
    "    plot determines if a heatmap of the results should be printed\n",
    "    label is the label of the plotting\n",
    "    \"\"\"\n",
    "    \n",
    "    scores = []\n",
    "    # we rename the constructor, \n",
    "    # only playes a role if q_list is empty \n",
    "    constructor = clf_constructor  \n",
    "    \n",
    "    ####\n",
    "    # If we are only passed one list, \n",
    "    # modify the constructor to take a second dummy argument\n",
    "    # We make q_list be a singleton list, \n",
    "    # and flip the role of p_list and q_list, the latter being only for printing purposes \n",
    "    if not q_list : # true if q_list is empty \n",
    "        q_list = p_list\n",
    "        p_list = ['']\n",
    "        constructor = (lambda p,q : clf_constructor(q)) \n",
    "    \n",
    "    ###\n",
    "    # We loop over the parameters \n",
    "    # and record the avarage of each folds score    \n",
    "    for p in p_list :\n",
    "        for q in q_list :\n",
    "            clf = constructor(p,q)\n",
    "            score = cross_val_score(clf, X_train, y_train, cv=folds)\n",
    "            scores.append(np.mean(score))\n",
    "\n",
    "    # transform the scores to a len(p_list) x len(q_list) shape array\n",
    "    scores_array = np.array(scores).reshape(len(p_list), len(q_list))\n",
    "            \n",
    "    ####\n",
    "    # make a heat map of the scores\n",
    "    if plot :\n",
    "        fig, ax = plt.subplots()\n",
    "        im, cbar = heatmap(scores_array, np.array(p_list), np.array(q_list) , ax = ax, cmap = \"YlGn\", cbarlabel = label )\n",
    "        texts = annotate_heatmap(im, valfmt=\"{x:.4f}\")\n",
    "        fig.tight_layout()\n",
    "        plt.show()\n",
    "        \n",
    "    return scores_array\n",
    "\n",
    "    \n",
    "def svm_tester(X_train, y_train, C_list = [0.1], folds = 10, plot = False) :\n",
    "    \"\"\"\n",
    "    Test the svm parameter C using cross validation\n",
    "    For each C in C_list do folds fold cross validation, \n",
    "    returns an array, of the same size as C_list, \n",
    "    of the avarages of the accuracies for each fold.\n",
    "    \n",
    "    If plot is set to true, show a heatmap of the results\n",
    "    \"\"\"\n",
    "\n",
    "    svm_constructor = (lambda p : svm.LinearSVC(C = p)) \n",
    "    scores = clf_cross_validator(X_train, y_train, svm_constructor, C_list, folds = folds, plot = plot, label = 'accuracy')\n",
    "    return scores \n",
    "\n",
    "def forrest_tester(X_train, y_train, trees_list = [1], depth_list = [1], folds = 10, plot = False) :\n",
    "    \"\"\"\n",
    "    Test the random forrest for the parameters of number of trees and max depth using cross validation\n",
    "    For each pair of parameters do folds fold cross validation, \n",
    "    returns an array, of shape len(trees_list) x len(depth_list) \n",
    "    of the avarages of the accuracies for each fold.\n",
    "    \n",
    "    If plot is set to true, show a heatmap of the results\n",
    "    \"\"\"\n",
    "    \n",
    "    forrest_constructor = (lambda p,q : RandomForestClassifier(n_estimators = p, max_depth = q)) \n",
    "    scores = clf_cross_validator(X_train, y_train, forrest_constructor, trees_list, depth_list, folds = folds, plot = plot, label = 'accuracy')\n",
    "    return scores \n",
    "\n",
    "def logistic_tester(X_train, y_train, C_list = [0.1], folds = 10, plot = False) :\n",
    "    \"\"\"\n",
    "    Test the logistic regression parameter C using cross validation\n",
    "    For each C in C_list do folds fold cross validation, \n",
    "    returns an array, of the same size as C_list, \n",
    "    of the avarages of the accuracies for each fold.\n",
    "    \n",
    "    If plot is set to true, show a heatmap of the results\n",
    "    \"\"\"\n",
    "    \n",
    "    # Not really sure about the solver\n",
    "    logistic_constructor = (lambda p : LogisticRegression(solver='lbfgs', multi_class='multinomial', C = p)) \n",
    "    scores = clf_cross_validator(X_train, y_train, logistic_constructor, C_list, folds = folds, plot = plot, label = 'accuracy')\n",
    "    return scores \n",
    "\n",
    "def mlp_tester(X_train, y_train, nodes = [1], alpha_list = [0.001], folds = 10, plot = False) :\n",
    "    \"\"\"\n",
    "    Test the mlp classifier (neural net) for the parameters of \n",
    "    number of nodes in a single layer and regularization constant using cross validation.\n",
    "    For each pair of parameters do folds fold cross validation, \n",
    "    returns an array, of shape len(nodes) x len(alpha_list) \n",
    "    of the avarages of the accuracies for each fold.\n",
    "    \n",
    "    If plot is set to true, show a heatmap of the results\n",
    "    \"\"\"\n",
    "    \n",
    "    mlp_constructor = (lambda p,q : MLPClassifier(hidden_layer_sizes = (p), alpha = q)) \n",
    "    scores = clf_cross_validator(X_train, y_train, mlp_constructor, nodes, alpha_list, folds = folds, plot = plot, label = 'accuracy')\n",
    "    return scores\n",
    "\n",
    "\n",
    "### Also want voting classifier"
   ]
  },
  {
   "cell_type": "code",
   "execution_count": 34,
   "metadata": {},
   "outputs": [],
   "source": [
    "X, y, features = get_design_matrix(min_df = 0.00013)\n",
    "\n",
    "x_train, x_test, y_train, y_test = train_test_split(X, y, test_size = 0.2)\n"
   ]
  },
  {
   "cell_type": "code",
   "execution_count": 36,
   "metadata": {},
   "outputs": [
    {
     "name": "stderr",
     "output_type": "stream",
     "text": [
      "C:\\Users\\Admin\\Anaconda3\\lib\\site-packages\\ipykernel_launcher.py:111: DeprecationWarning: In future, it will be an error for 'np.bool_' scalars to be interpreted as an index\n"
     ]
    },
    {
     "data": {
      "image/png": "[encoded data removed]",
      "text/plain": [
       "<Figure size 432x288 with 2 Axes>"
      ]
     },
     "metadata": {},
     "output_type": "display_data"
    }
   ],
   "source": [
    "forrest_scores = forrest_tester(x_train, y_train, [10,20,30], [5,10], folds = 2, plot = True)"
   ]
  },
  {
   "cell_type": "code",
   "execution_count": 37,
   "metadata": {},
   "outputs": [
    {
     "name": "stderr",
     "output_type": "stream",
     "text": [
      "C:\\Users\\Admin\\Anaconda3\\lib\\site-packages\\ipykernel_launcher.py:111: DeprecationWarning: In future, it will be an error for 'np.bool_' scalars to be interpreted as an index\n"
     ]
    },
    {
     "data": {
      "image/png": "[encoded data removed]",
      "text/plain": [
       "<Figure size 432x288 with 2 Axes>"
      ]
     },
     "metadata": {},
     "output_type": "display_data"
    }
   ],
   "source": [
    "svm_scores = svm_tester(x_train, y_train, [0.001, 0.01, 0.1, 1], folds = 2, plot = True)"
   ]
  },
  {
   "cell_type": "code",
   "execution_count": 31,
   "metadata": {},
   "outputs": [
    {
     "name": "stderr",
     "output_type": "stream",
     "text": [
      "C:\\Users\\Admin\\Anaconda3\\lib\\site-packages\\ipykernel_launcher.py:111: DeprecationWarning: In future, it will be an error for 'np.bool_' scalars to be interpreted as an index\n"
     ]
    },
    {
     "data": {
      "image/png": "[encoded data removed]",
      "text/plain": [
       "<Figure size 432x288 with 2 Axes>"
      ]
     },
     "metadata": {},
     "output_type": "display_data"
    }
   ],
   "source": [
    "logistic_scores = logistic_tester(x_train, y_train, [0.001, 0.01, 0.1, 1, 10], folds = 2, plot = True)"
   ]
  },
  {
   "cell_type": "code",
   "execution_count": 42,
   "metadata": {},
   "outputs": [
    {
     "name": "stderr",
     "output_type": "stream",
     "text": [
      "C:\\Users\\Admin\\Anaconda3\\lib\\site-packages\\sklearn\\neural_network\\multilayer_perceptron.py:564: ConvergenceWarning: Stochastic Optimizer: Maximum iterations (200) reached and the optimization hasn't converged yet.\n",
      "  % self.max_iter, ConvergenceWarning)\n",
      "C:\\Users\\Admin\\Anaconda3\\lib\\site-packages\\sklearn\\neural_network\\multilayer_perceptron.py:564: ConvergenceWarning: Stochastic Optimizer: Maximum iterations (200) reached and the optimization hasn't converged yet.\n",
      "  % self.max_iter, ConvergenceWarning)\n",
      "C:\\Users\\Admin\\Anaconda3\\lib\\site-packages\\sklearn\\neural_network\\multilayer_perceptron.py:564: ConvergenceWarning: Stochastic Optimizer: Maximum iterations (200) reached and the optimization hasn't converged yet.\n",
      "  % self.max_iter, ConvergenceWarning)\n",
      "C:\\Users\\Admin\\Anaconda3\\lib\\site-packages\\sklearn\\neural_network\\multilayer_perceptron.py:564: ConvergenceWarning: Stochastic Optimizer: Maximum iterations (200) reached and the optimization hasn't converged yet.\n",
      "  % self.max_iter, ConvergenceWarning)\n",
      "C:\\Users\\Admin\\Anaconda3\\lib\\site-packages\\sklearn\\neural_network\\multilayer_perceptron.py:564: ConvergenceWarning: Stochastic Optimizer: Maximum iterations (200) reached and the optimization hasn't converged yet.\n",
      "  % self.max_iter, ConvergenceWarning)\n",
      "C:\\Users\\Admin\\Anaconda3\\lib\\site-packages\\sklearn\\neural_network\\multilayer_perceptron.py:564: ConvergenceWarning: Stochastic Optimizer: Maximum iterations (200) reached and the optimization hasn't converged yet.\n",
      "  % self.max_iter, ConvergenceWarning)\n",
      "C:\\Users\\Admin\\Anaconda3\\lib\\site-packages\\sklearn\\neural_network\\multilayer_perceptron.py:564: ConvergenceWarning: Stochastic Optimizer: Maximum iterations (200) reached and the optimization hasn't converged yet.\n",
      "  % self.max_iter, ConvergenceWarning)\n",
      "C:\\Users\\Admin\\Anaconda3\\lib\\site-packages\\sklearn\\neural_network\\multilayer_perceptron.py:564: ConvergenceWarning: Stochastic Optimizer: Maximum iterations (200) reached and the optimization hasn't converged yet.\n",
      "  % self.max_iter, ConvergenceWarning)\n",
      "C:\\Users\\Admin\\Anaconda3\\lib\\site-packages\\sklearn\\neural_network\\multilayer_perceptron.py:564: ConvergenceWarning: Stochastic Optimizer: Maximum iterations (200) reached and the optimization hasn't converged yet.\n",
      "  % self.max_iter, ConvergenceWarning)\n",
      "C:\\Users\\Admin\\Anaconda3\\lib\\site-packages\\sklearn\\neural_network\\multilayer_perceptron.py:564: ConvergenceWarning: Stochastic Optimizer: Maximum iterations (200) reached and the optimization hasn't converged yet.\n",
      "  % self.max_iter, ConvergenceWarning)\n",
      "C:\\Users\\Admin\\Anaconda3\\lib\\site-packages\\sklearn\\neural_network\\multilayer_perceptron.py:564: ConvergenceWarning: Stochastic Optimizer: Maximum iterations (200) reached and the optimization hasn't converged yet.\n",
      "  % self.max_iter, ConvergenceWarning)\n",
      "C:\\Users\\Admin\\Anaconda3\\lib\\site-packages\\sklearn\\neural_network\\multilayer_perceptron.py:564: ConvergenceWarning: Stochastic Optimizer: Maximum iterations (200) reached and the optimization hasn't converged yet.\n",
      "  % self.max_iter, ConvergenceWarning)\n",
      "C:\\Users\\Admin\\Anaconda3\\lib\\site-packages\\ipykernel_launcher.py:111: DeprecationWarning: In future, it will be an error for 'np.bool_' scalars to be interpreted as an index\n"
     ]
    },
    {
     "data": {
      "image/png": "[encoded data removed]",
      "text/plain": [
       "<Figure size 432x288 with 2 Axes>"
      ]
     },
     "metadata": {},
     "output_type": "display_data"
    }
   ],
   "source": [
    "mlp_scores = mlp_tester(x_train, y_train, [10,20,30], [0.0001, 0.001], folds = 2, plot = True)"
   ]
  }
 ],
 "metadata": {
  "kernelspec": {
   "display_name": "Python 3",
   "language": "python",
   "name": "python3"
  },
  "language_info": {
   "codemirror_mode": {
    "name": "ipython",
    "version": 3
   },
   "file_extension": ".py",
   "mimetype": "text/x-python",
   "name": "python",
   "nbconvert_exporter": "python",
   "pygments_lexer": "ipython3",
   "version": "3.6.5"
  }
 },
 "nbformat": 4,
 "nbformat_minor": 2
}
