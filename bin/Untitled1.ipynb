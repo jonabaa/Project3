{
 "cells": [
  {
   "cell_type": "code",
   "execution_count": 2,
   "metadata": {},
   "outputs": [
    {
     "name": "stderr",
     "output_type": "stream",
     "text": [
      "/home/jeanpylon/anaconda3/lib/python3.6/site-packages/h5py/__init__.py:36: FutureWarning: Conversion of the second argument of issubdtype from `float` to `np.floating` is deprecated. In future, it will be treated as `np.float64 == np.dtype(float).type`.\n",
      "  from ._conv import register_converters as _register_converters\n"
     ]
    }
   ],
   "source": [
    "from functions import *\n"
   ]
  },
  {
   "cell_type": "code",
   "execution_count": 3,
   "metadata": {},
   "outputs": [
    {
     "name": "stdout",
     "output_type": "stream",
     "text": [
      "Loading -...\n",
      "Done.\n"
     ]
    }
   ],
   "source": [
    "print(\"Loading ...\")\n",
    "X, y, features = get_design_matrix(cleaning_function = clean, min_df = 3)\n",
    "print(\"Done.\")"
   ]
  },
  {
   "cell_type": "code",
   "execution_count": 17,
   "metadata": {},
   "outputs": [
    {
     "name": "stdout",
     "output_type": "stream",
     "text": [
      "Fitting model ...\n",
      "Done.\n"
     ]
    }
   ],
   "source": [
    "print(\"Fitting model ...\")\n",
    "model = LogisticRegression(solver=\"lbfgs\", multi_class=\"ovr\").fit(X, y)\n",
    "print(\"Done.\")"
   ]
  },
  {
   "cell_type": "code",
   "execution_count": 21,
   "metadata": {},
   "outputs": [
    {
     "name": "stdout",
     "output_type": "stream",
     "text": [
      "[[1.31622689e-03 7.91982119e-04 4.80427938e-03 3.05815088e-05\n",
      "  5.37000267e-04 9.18105973e-04 6.15882345e-04 9.76903274e-01\n",
      "  5.95655519e-06 9.91949928e-06 2.86580851e-05 1.28698953e-02\n",
      "  6.01673457e-07 4.40719780e-04 1.94334193e-06 9.87575775e-05\n",
      "  5.29214146e-04 2.77349772e-05 6.54237228e-05 3.84330619e-06]]\n",
      "0.9999999999999999\n",
      "0.9999999999999999\n",
      "0.8437170010559663\n"
     ]
    }
   ],
   "source": [
    "probs = model.predict_proba(X[4])\n",
    "print(probs)\n",
    "\n",
    "s = 0\n",
    "for i in probs[0]:\n",
    "    s += i\n",
    "\n",
    "print(sum(probs[0]))\n",
    "print(s)\n",
    "acc = accuracy_score(y, model.predict(X))\n",
    "print(acc)"
   ]
  }
 ],
 "metadata": {
  "kernelspec": {
   "display_name": "Python 3",
   "language": "python",
   "name": "python3"
  },
  "language_info": {
   "codemirror_mode": {
    "name": "ipython",
    "version": 3
   },
   "file_extension": ".py",
   "mimetype": "text/x-python",
   "name": "python",
   "nbconvert_exporter": "python",
   "pygments_lexer": "ipython3",
   "version": "3.6.5"
  }
 },
 "nbformat": 4,
 "nbformat_minor": 2
}
