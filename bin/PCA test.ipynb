{
 "cells": [
  {
   "cell_type": "code",
   "execution_count": 2,
   "metadata": {},
   "outputs": [
    {
     "name": "stderr",
     "output_type": "stream",
     "text": [
      "C:\\Users\\Admin\\Anaconda3\\lib\\site-packages\\h5py\\__init__.py:36: FutureWarning: Conversion of the second argument of issubdtype from `float` to `np.floating` is deprecated. In future, it will be treated as `np.float64 == np.dtype(float).type`.\n",
      "  from ._conv import register_converters as _register_converters\n"
     ]
    }
   ],
   "source": [
    "import numpy as np\n",
    "import pandas as pd\n",
    "import re\n",
    "from sklearn.model_selection import train_test_split\n",
    "import matplotlib\n",
    "import matplotlib.pyplot as plt\n",
    "from mpl_toolkits.axes_grid1 import make_axes_locatable\n",
    "import random\n",
    "from sklearn.metrics import r2_score, mean_squared_error, accuracy_score, log_loss\n",
    "from sklearn import svm #support vector machines\n",
    "from sklearn.feature_extraction.text import CountVectorizer\n",
    "\n",
    "from sklearn.model_selection import cross_val_score\n",
    "from sklearn.ensemble import RandomForestClassifier, VotingClassifier\n",
    "from sklearn.linear_model import LogisticRegression\n",
    "from sklearn.neural_network import MLPClassifier\n",
    "\n",
    "from sklearn.decomposition import PCA\n",
    "\n",
    "from functions import *"
   ]
  },
  {
   "cell_type": "code",
   "execution_count": 3,
   "metadata": {},
   "outputs": [
    {
     "name": "stdout",
     "output_type": "stream",
     "text": [
      "Importing design matrix ...\n",
      "There are 2176 features.\n",
      "Splitting.\n",
      "All done.\n"
     ]
    }
   ],
   "source": [
    "print(\"Importing design matrix ...\")\n",
    "X, y, features = get_design_matrix(cleaning_function = clean, min_df = 3)\n",
    "print(\"There are %d features.\" % len(features))\n",
    "print(\"Splitting.\")\n",
    "X_train, X_test, y_train, y_test = train_test_split(X.toarray(), y, test_size=0.2)\n",
    "print(\"All done.\")"
   ]
  },
  {
   "cell_type": "code",
   "execution_count": 10,
   "metadata": {},
   "outputs": [
    {
     "name": "stdout",
     "output_type": "stream",
     "text": [
      "Fitting and testing pca with 100 components.\n",
      "The accuracy is 0.690635\n",
      "\n",
      "Fitting and testing pca with 300 components.\n",
      "The accuracy is 0.754871\n",
      "\n",
      "Fitting and testing pca with 500 components.\n",
      "The accuracy is 0.771087\n",
      "\n",
      "Fitting and testing pca with 700 components.\n",
      "The accuracy is 0.776493\n",
      "\n",
      "Fitting and testing pca with 900 components.\n",
      "The accuracy is 0.775613\n",
      "\n",
      "Fitting and testing pca with 1100 components.\n",
      "The accuracy is 0.781018\n",
      "\n",
      "Fitting and testing pca with 1300 components.\n",
      "The accuracy is 0.783281\n",
      "\n",
      "Fitting and testing pca with 1500 components.\n",
      "The accuracy is 0.783784\n",
      "\n"
     ]
    }
   ],
   "source": [
    "logistic_clf = LogisticRegression(solver='lbfgs', multi_class='multinomial', C = 1)\n",
    "\n",
    "for n in [100,300,500,700,900,1100, 1300, 1500] :\n",
    "    print(\"Fitting and testing pca with %d components.\" % n)\n",
    "    pca = PCA(n_components = n)\n",
    "    pca.fit(X_train)\n",
    "    pca_X_train = pca.transform(X_train)\n",
    "    pca_X_test = pca.transform(X_test)\n",
    "    logistic_clf.fit(pca_X_train, y_train)\n",
    "    pca_pred = logistic_clf.predict(pca_X_test)\n",
    "    print(\"The accuracy is %f\" % accuracy_score(y_test, pca_pred))\n",
    "    print(\"\")"
   ]
  },
  {
   "cell_type": "code",
   "execution_count": 11,
   "metadata": {},
   "outputs": [
    {
     "name": "stdout",
     "output_type": "stream",
     "text": [
      "The accuracy without PCA is 0.783784\n",
      "\n"
     ]
    }
   ],
   "source": [
    "logistic_clf.fit(X_train, y_train)\n",
    "pred = logistic_clf.predict(X_test)\n",
    "print(\"The accuracy without PCA is %f\" % accuracy_score(y_test, pca_pred))\n",
    "print(\"\")"
   ]
  }
 ],
 "metadata": {
  "kernelspec": {
   "display_name": "Python 3",
   "language": "python",
   "name": "python3"
  },
  "language_info": {
   "codemirror_mode": {
    "name": "ipython",
    "version": 3
   },
   "file_extension": ".py",
   "mimetype": "text/x-python",
   "name": "python",
   "nbconvert_exporter": "python",
   "pygments_lexer": "ipython3",
   "version": "3.6.5"
  }
 },
 "nbformat": 4,
 "nbformat_minor": 2
}
