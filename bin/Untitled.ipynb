{
 "cells": [
  {
   "cell_type": "code",
   "execution_count": 1,
   "metadata": {},
   "outputs": [
    {
     "name": "stderr",
     "output_type": "stream",
     "text": [
      "/home/jeanpylon/anaconda3/lib/python3.6/site-packages/h5py/__init__.py:36: FutureWarning: Conversion of the second argument of issubdtype from `float` to `np.floating` is deprecated. In future, it will be treated as `np.float64 == np.dtype(float).type`.\n",
      "  from ._conv import register_converters as _register_converters\n"
     ]
    }
   ],
   "source": [
    "# import necessary functions\n",
    "from functions import *\n",
    "from sklearn.linear_model import LogisticRegression\n"
   ]
  },
  {
   "cell_type": "code",
   "execution_count": 7,
   "metadata": {},
   "outputs": [
    {
     "name": "stdout",
     "output_type": "stream",
     "text": [
      "[3010, 3010, 3010, 1999, 916, 273, 47]\n"
     ]
    }
   ],
   "source": [
    "features_list = []\n",
    "min_df_list = [0, 0.000001, 0.00001, 0.0001, 0.001, 0.01, 0.1]\n",
    "\n",
    "for min_df in min_df_list:\n",
    "    X, Y, labels = get_design_matrix(min_df= min_df)\n",
    "    X = X.toarray()\n",
    "    features_list.append(X.shape[1])\n",
    "    \n",
    "print(features_list)\n"
   ]
  },
  {
   "cell_type": "code",
   "execution_count": null,
   "metadata": {},
   "outputs": [],
   "source": [
    "# from sklearn.decomposition import PCA, TruncatedSVD\n",
    "\n",
    "dimensions = [100, 200, 300, 400, 500, 600, 700, 800, 900, 1000, 2000] # the number of dimensions to reduce to\n",
    "log_accuracy_train = []\n",
    "log_accuracy_test = []\n",
    "\n",
    "svm_accuracy_train = []\n",
    "svm_accuracy_test = []\n",
    "\n",
    "tree_accuracy_train = []\n",
    "tree_accuracy_test = []\n",
    "\n",
    "\n",
    "for alpha in alphas:\n",
    "    for beta in betas:\n",
    "        for threshold in thresholds:\n",
    "            \n",
    "            \n"
   ]
  }
 ],
 "metadata": {
  "kernelspec": {
   "display_name": "Python 3",
   "language": "python",
   "name": "python3"
  },
  "language_info": {
   "codemirror_mode": {
    "name": "ipython",
    "version": 3
   },
   "file_extension": ".py",
   "mimetype": "text/x-python",
   "name": "python",
   "nbconvert_exporter": "python",
   "pygments_lexer": "ipython3",
   "version": "3.6.5"
  }
 },
 "nbformat": 4,
 "nbformat_minor": 2
}
