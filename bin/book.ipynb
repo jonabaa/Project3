{
 "cells": [
  {
   "cell_type": "code",
   "execution_count": 1,
   "metadata": {},
   "outputs": [
    {
     "name": "stderr",
     "output_type": "stream",
     "text": [
      "/home/jeanpylon/anaconda3/lib/python3.6/site-packages/h5py/__init__.py:36: FutureWarning: Conversion of the second argument of issubdtype from `float` to `np.floating` is deprecated. In future, it will be treated as `np.float64 == np.dtype(float).type`.\n",
      "  from ._conv import register_converters as _register_converters\n"
     ]
    }
   ],
   "source": [
    "import numpy as np\n",
    "import pandas as pd\n",
    "import re\n",
    "import tensorflow as tf\n",
    "from sklearn.model_selection import train_test_split\n",
    "import matplotlib.pyplot as plt\n",
    "import random\n",
    "from sklearn.metrics import r2_score, mean_squared_error, accuracy_score, log_loss\n",
    "from sklearn import svm #support vector machines\n",
    "from sklearn.feature_extraction.text import CountVectorizer"
   ]
  },
  {
   "cell_type": "code",
   "execution_count": 2,
   "metadata": {},
   "outputs": [
    {
     "name": "stdout",
     "output_type": "stream",
     "text": [
      "An example of what the data looks like:\n",
      "\n",
      "            cuisine     id                                        ingredients\n",
      "0             greek  10259  [romaine lettuce, black olives, grape tomatoes...\n",
      "1       southern_us  25693  [plain flour, ground pepper, salt, tomatoes, g...\n",
      "2          filipino  20130  [eggs, pepper, salt, mayonaise, cooking oil, g...\n",
      "3            indian  22213                [water, vegetable oil, wheat, salt]\n",
      "4            indian  13162  [black pepper, shallots, cornflour, cayenne pe...\n",
      "5          jamaican   6602  [plain flour, sugar, butter, eggs, fresh ginge...\n",
      "6           spanish  42779  [olive oil, salt, medium shrimp, pepper, garli...\n",
      "7           italian   3735  [sugar, pistachio nuts, white almond bark, flo...\n",
      "8           mexican  16903  [olive oil, purple onion, fresh pineapple, por...\n",
      "9           italian  12734  [chopped tomatoes, fresh basil, garlic, extra-...\n",
      "10          italian   5875  [pimentos, sweet pepper, dried oregano, olive ...\n",
      "11          chinese  45887  [low sodium soy sauce, fresh ginger, dry musta...\n",
      "12          italian   2698  [Italian parsley leaves, walnuts, hot red pepp...\n",
      "13          mexican  41995  [ground cinnamon, fresh cilantro, chili powder...\n",
      "14          italian  31908  [fresh parmesan cheese, butter, all-purpose fl...\n",
      "15           indian  24717  [tumeric, vegetable stock, tomatoes, garam mas...\n",
      "16          british  34466  [greek yogurt, lemon curd, confectioners sugar...\n",
      "17          italian   1420  [italian seasoning, broiler-fryer chicken, may...\n",
      "18             thai   2941   [sugar, hot chili, asian fish sauce, lime juice]\n",
      "19       vietnamese   8152  [soy sauce, vegetable oil, red bell pepper, ch...\n",
      "20             thai  13121  [pork loin, roasted peanuts, chopped cilantro ...\n",
      "21          mexican  40523  [roma tomatoes, kosher salt, purple onion, jal...\n",
      "22      southern_us  40989  [low-fat mayonnaise, pepper, salt, baking pota...\n",
      "23          chinese  29630  [sesame seeds, red pepper, yellow peppers, wat...\n",
      "24          italian  49136  [marinara sauce, flat leaf parsley, olive oil,...\n",
      "25          chinese  26705  [sugar, lo mein noodles, salt, chicken broth, ...\n",
      "26     cajun_creole  27976  [herbs, lemon juice, fresh tomatoes, paprika, ...\n",
      "27          italian  22087  [ground black pepper, butter, sliced mushrooms...\n",
      "28          chinese   9197  [green bell pepper, egg roll wrappers, sweet a...\n",
      "29          mexican   1299  [flour tortillas, cheese, breakfast sausages, ...\n",
      "...             ...    ...                                                ...\n",
      "39744         greek   5680  [extra-virgin olive oil, oregano, potatoes, ga...\n",
      "39745       spanish   5511  [quinoa, extra-virgin olive oil, fresh thyme l...\n",
      "39746        indian  32051  [clove, bay leaves, ginger, chopped cilantro, ...\n",
      "39747      moroccan   5119  [water, sugar, grated lemon zest, butter, pitt...\n",
      "39748       italian   9526  [sea salt, pizza doughs, all-purpose flour, co...\n",
      "39749       mexican  45599  [kosher salt, minced onion, tortilla chips, su...\n",
      "39750       mexican  49670  [ground black pepper, chicken breasts, salsa, ...\n",
      "39751      moroccan  30735  [olive oil, cayenne pepper, chopped cilantro f...\n",
      "39752   southern_us   5911  [self rising flour, milk, white sugar, butter,...\n",
      "39753       italian  33294  [rosemary sprigs, lemon zest, garlic cloves, g...\n",
      "39754    vietnamese  27082  [jasmine rice, bay leaves, sticky rice, rotiss...\n",
      "39755        indian  36337  [mint leaves, cilantro leaves, ghee, tomatoes,...\n",
      "39756       mexican  15508  [vegetable oil, cinnamon sticks, water, all-pu...\n",
      "39757         greek  34331  [red bell pepper, garlic cloves, extra-virgin ...\n",
      "39758         greek  47387  [milk, salt, ground cayenne pepper, ground lam...\n",
      "39759        korean  12153  [red chili peppers, sea salt, onions, water, c...\n",
      "39760   southern_us  41840  [butter, large eggs, cornmeal, baking powder, ...\n",
      "39761       chinese   6487  [honey, chicken breast halves, cilantro leaves...\n",
      "39762        indian  26646  [curry powder, salt, chicken, water, vegetable...\n",
      "39763       italian  44798  [fettuccine pasta, low-fat cream cheese, garli...\n",
      "39764       mexican   8089  [chili powder, worcestershire sauce, celery, r...\n",
      "39765        indian   6153  [coconut, unsweetened coconut milk, mint leave...\n",
      "39766         irish  25557  [rutabaga, ham, thick-cut bacon, potatoes, fre...\n",
      "39767       italian  24348  [low-fat sour cream, grated parmesan cheese, s...\n",
      "39768       mexican   7377  [shredded cheddar cheese, crushed cheese crack...\n",
      "39769         irish  29109  [light brown sugar, granulated sugar, butter, ...\n",
      "39770       italian  11462  [KRAFT Zesty Italian Dressing, purple onion, b...\n",
      "39771         irish   2238  [eggs, citrus fruit, raisins, sourdough starte...\n",
      "39772       chinese  41882  [boneless chicken skinless thigh, minced garli...\n",
      "39773       mexican   2362  [green chile, jalapeno chilies, onions, ground...\n",
      "\n",
      "[39774 rows x 3 columns]\n",
      "\n",
      "Here the number of recepies of each cuisine\n",
      "\n",
      "italian         7838\n",
      "mexican         6438\n",
      "southern_us     4320\n",
      "indian          3003\n",
      "chinese         2673\n",
      "french          2646\n",
      "cajun_creole    1546\n",
      "thai            1539\n",
      "japanese        1423\n",
      "greek           1175\n",
      "spanish          989\n",
      "korean           830\n",
      "vietnamese       825\n",
      "moroccan         821\n",
      "british          804\n",
      "filipino         755\n",
      "irish            667\n",
      "jamaican         526\n",
      "russian          489\n",
      "brazilian        467\n",
      "Name: cuisine, dtype: int64\n"
     ]
    }
   ],
   "source": [
    "data = pd.read_json('train.json') \n",
    "\n",
    "print(\"An example of what the data looks like:\")\n",
    "print(\"\")\n",
    "print(data)\n",
    "\n",
    "print(\"\")\n",
    "print(\"Here the number of recepies of each cuisine\")\n",
    "print(\"\")\n",
    "print(data['cuisine'].value_counts())"
   ]
  },
  {
   "cell_type": "code",
   "execution_count": 3,
   "metadata": {},
   "outputs": [
    {
     "name": "stdout",
     "output_type": "stream",
     "text": [
      "(39774, 3010)\n"
     ]
    }
   ],
   "source": [
    "recipie_list_list = data.ingredients.values.tolist()\n",
    "recipie_string_list = [\" \".join(ing) for ing in recipie_list_list]\n",
    "vectorizer = CountVectorizer()\n",
    "X = vectorizer.fit_transform(recipie_string_list)\n",
    "print(X.shape)"
   ]
  },
  {
   "cell_type": "code",
   "execution_count": 22,
   "metadata": {},
   "outputs": [
    {
     "name": "stdout",
     "output_type": "stream",
     "text": [
      "List of cuisines indexed:\n",
      "{'greek': 0, 'southern_us': 1, 'filipino': 2, 'indian': 3, 'jamaican': 4, 'spanish': 5, 'italian': 6, 'mexican': 7, 'chinese': 8, 'british': 9, 'thai': 10, 'vietnamese': 11, 'cajun_creole': 12, 'brazilian': 13, 'french': 14, 'japanese': 15, 'irish': 16, 'korean': 17, 'moroccan': 18, 'russian': 19}\n",
      "39774\n",
      "0\n"
     ]
    }
   ],
   "source": [
    "# Make the target matrix according to X\n",
    "\n",
    "cuisines = data.cuisine.unique()\n",
    "cuisine_index = {}\n",
    "for i in range(0, len(cuisines)) : \n",
    "    cuisine_index[cuisines[i]] = i\n",
    "\n",
    "print(\"List of cuisines indexed:\")\n",
    "print(cuisine_index)\n",
    "\n",
    "Y = np.array([cuisine_index[cus] for cus in data.cuisine.values.tolist()])\n",
    "\n",
    "print(len(Y))\n",
    "print(Y[0])"
   ]
  },
  {
   "cell_type": "markdown",
   "metadata": {},
   "source": [
    "# Divide data"
   ]
  },
  {
   "cell_type": "code",
   "execution_count": 23,
   "metadata": {},
   "outputs": [
    {
     "name": "stdout",
     "output_type": "stream",
     "text": [
      "(39774, 3010)\n",
      "(39774,)\n",
      "(23864, 3010)\n",
      "(23864,)\n"
     ]
    }
   ],
   "source": [
    "print(X.shape)\n",
    "print(Y.shape)\n",
    "\n",
    "x_train, x_test, y_train, y_test = train_test_split(X, Y, test_size = .2)\n",
    "x_train, x_val, y_train, y_val = train_test_split(x_train, y_train, test_size = .2/.8)\n",
    "\n",
    "print(x_train.shape)\n",
    "print(y_train.shape)\n"
   ]
  },
  {
   "cell_type": "markdown",
   "metadata": {},
   "source": [
    "# Logistic regression"
   ]
  },
  {
   "cell_type": "code",
   "execution_count": 27,
   "metadata": {},
   "outputs": [
    {
     "name": "stdout",
     "output_type": "stream",
     "text": [
      "Accuracy on training data:\n",
      "0.8744552463962454\n",
      "Accuracy on test data:\n",
      "0.7714644877435575\n"
     ]
    }
   ],
   "source": [
    "\n",
    "from sklearn.linear_model import LogisticRegression\n",
    "\n",
    "clf = LogisticRegression(random_state=0, solver='lbfgs',\n",
    "                         multi_class='multinomial').fit(x_train, y_train)\n",
    "#clf.predict(X[:2, :])\n",
    "\n",
    "#clf.predict_proba(X[:2, :]) \n",
    "\n",
    "print(\"Accuracy on training data:\")\n",
    "print(clf.score(x_train, y_train))\n",
    "print(\"Accuracy on test data:\")\n",
    "print(clf.score(x_test, y_test))"
   ]
  }
 ],
 "metadata": {
  "kernelspec": {
   "display_name": "Python 3",
   "language": "python",
   "name": "python3"
  },
  "language_info": {
   "codemirror_mode": {
    "name": "ipython",
    "version": 3
   },
   "file_extension": ".py",
   "mimetype": "text/x-python",
   "name": "python",
   "nbconvert_exporter": "python",
   "pygments_lexer": "ipython3",
   "version": "3.6.5"
  }
 },
 "nbformat": 4,
 "nbformat_minor": 2
}

