{
 "cells": [
  {
   "cell_type": "markdown",
   "metadata": {},
   "source": [
    "# Choosing min_df\n",
    "\n",
    "In this notebook we will, systematically, go about choosing min_df"
   ]
  },
  {
   "cell_type": "markdown",
   "metadata": {},
   "source": [
    "## Imports"
   ]
  },
  {
   "cell_type": "code",
   "execution_count": null,
   "metadata": {},
   "outputs": [],
   "source": [
    "import numpy as np\n",
    "import pandas as pd\n",
    "import re\n",
    "from sklearn.model_selection import train_test_split\n",
    "import matplotlib\n",
    "import matplotlib.pyplot as plt\n",
    "from mpl_toolkits.axes_grid1 import make_axes_locatable\n",
    "import random\n",
    "from sklearn.metrics import r2_score, mean_squared_error, accuracy_score, log_loss\n",
    "from sklearn import svm #support vector machines\n",
    "from sklearn.feature_extraction.text import CountVectorizer\n",
    "\n",
    "from sklearn.model_selection import cross_val_score\n",
    "from sklearn.ensemble import RandomForestClassifier\n",
    "from sklearn.linear_model import LogisticRegression\n",
    "from sklearn.neural_network import MLPClassifier\n",
    "\n",
    "from functions import *"
   ]
  },
  {
   "cell_type": "markdown",
   "metadata": {},
   "source": [
    "## Features plot\n",
    "\n",
    "Below we show a plot of how the number of features change, as we exclude ingredients that only appear in i recipies"
   ]
  },
  {
   "cell_type": "code",
   "execution_count": null,
   "metadata": {},
   "outputs": [],
   "source": [
    "# First we make a list of dfs. \n",
    "# The are 39774 in total, so min_df = i/39774 means \n",
    "# include every ingredient that appears in at least i recipies.\n",
    "df_list = [i/39774 for i in range(1,101)] \n",
    "feat_num = []\n",
    "\n",
    "data = pd.read_json('train.json') \n",
    "recipie_list_list = data.ingredients.values.tolist()\n",
    "recipie_string_list = [\" \".join(ing) for ing in recipie_list_list]\n",
    "del data, recipie_list_list\n",
    "\n",
    "for df in df_list :\n",
    "    vectorizer = CountVectorizer(min_df = df)\n",
    "    X = vectorizer.fit_transform(recipie_string_list)\n",
    "    feat_num.append(len(vectorizer.get_feature_names()))\n",
    "\n",
    "del recipie_string_list\n",
    "    \n",
    "plt.plot(range(1,101), feat_num, \"-\")\n",
    "plt.xlabel('recipies')\n",
    "plt.ylabel('features/ingredients')\n",
    "plt.show()\n"
   ]
  },
  {
   "cell_type": "markdown",
   "metadata": {},
   "source": [
    "## Picking min_df using cross validation\n",
    "\n",
    "Now we make a plot of how the accuracy of three classifications methods change, as a a function of how many reciepies an ingredient must appear in to be considered a feature"
   ]
  },
  {
   "cell_type": "code",
   "execution_count": null,
   "metadata": {},
   "outputs": [],
   "source": [
    "svm_list, log_list, forrest_list = accuracy_with_min_df(min_df_list = df_list, svm_parms = [0.001, 0.1, 1, 10], log_parms = [0.001, 0.1, 1, 10], forrest_trees = [50,100,150], forrest_depth = [10,20,None], folds = 3)"
   ]
  },
  {
   "cell_type": "code",
   "execution_count": null,
   "metadata": {},
   "outputs": [],
   "source": [
    "# Create plots \n",
    "plt.plot(range(1,101), svm_list, '--', label='SVM')\n",
    "plt.plot(range(1,101), log_list, '-', label='Logistic')\n",
    "plt.plot(range(1,101), forrest_list, ':', label='Random forrest')\n",
    "plt.xlabel('recipies')\n",
    "plt.ylabel('Accuracy/CV score')\n",
    "plt.show()"
   ]
  }
 ],
 "metadata": {
  "kernelspec": {
   "display_name": "Python 3",
   "language": "python",
   "name": "python3"
  },
  "language_info": {
   "codemirror_mode": {
    "name": "ipython",
    "version": 3
   },
   "file_extension": ".py",
   "mimetype": "text/x-python",
   "name": "python",
   "nbconvert_exporter": "python",
   "pygments_lexer": "ipython3",
   "version": "3.6.5"
  }
 },
 "nbformat": 4,
 "nbformat_minor": 2
}
