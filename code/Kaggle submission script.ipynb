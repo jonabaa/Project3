{
 "cells": [
  {
   "cell_type": "code",
   "execution_count": 5,
   "metadata": {},
   "outputs": [
    {
     "name": "stdout",
     "output_type": "stream",
     "text": [
      "<zip object at 0x000001C571393588>\n"
     ]
    }
   ],
   "source": [
    "# This Python 3 environment comes with many helpful analytics libraries installed\n",
    "# It is defined by the kaggle/python docker image: https://github.com/kaggle/docker-python\n",
    "# For example, here's several helpful packages to load in \n",
    "\n",
    "import numpy as np # linear algebra\n",
    "import pandas as pd # data processing, CSV file I/O (e.g. pd.read_csv)\n",
    "\n",
    "# Input data files are available in the \"../input/\" directory.\n",
    "# For example, running this (by clicking run or pressing Shift+Enter) will list the files in the input directory\n",
    "\n",
    "# Any results you write to the current directory are saved as output.\n",
    "from sklearn import svm #support vector machines\n",
    "from sklearn.feature_extraction.text import CountVectorizer\n",
    "from sklearn.ensemble import RandomForestClassifier, VotingClassifier\n",
    "from sklearn.linear_model import LogisticRegression\n",
    "from sklearn.neural_network import MLPClassifier\n",
    "\n",
    "def clean(s) :\n",
    "    clean_s = s.replace('-',' ') # treat low-fat and low fat as the same thing\n",
    "    clean_s = ''.join([c for c in clean_s if (c.isalpha() or c ==' ')]) # drop numbers and special characters\n",
    "    return clean_s\n",
    "\n",
    "\n",
    "#### First we read in the training data\n",
    "data = pd.read_json('../input/train.json') \n",
    "recipie_list_list = data.ingredients.values.tolist()\n",
    "recipie_string_list = [clean(\" \".join(ing)) for ing in recipie_list_list]\n",
    "vectorizer = CountVectorizer(min_df = 3)\n",
    "X_train = vectorizer.fit_transform(recipie_string_list)\n",
    "y_train = data.cuisine.values\n",
    "\n",
    "del data, recipie_list_list, recipie_string_list\n",
    "\n",
    "#### Then we read in the test data\n",
    "data = pd.read_json('../input/test.json') \n",
    "recipie_list_list = data.ingredients.values.tolist()\n",
    "recipie_string_list = [clean(\" \".join(ing)) for ing in recipie_list_list]\n",
    "X_test = vectorizer.transform(recipie_string_list)\n",
    "test_ids = data.id.values.tolist()\n",
    "del data, recipie_list_list, recipie_string_list\n",
    "\n",
    "#############\n",
    "#############\n",
    "## The classifier goes here\n",
    "############\n",
    "############\n",
    "logistic_clf = LogisticRegression(solver='lbfgs', multi_class='multinomial', C = 1)\n",
    "forrest_clf = RandomForestClassifier(n_estimators = 100, max_depth = None)\n",
    "mlp_clf = MLPClassifier(hidden_layer_sizes = (1000), alpha = 0.01, max_iter = 10)\n",
    "clf = VotingClassifier(estimators=[('forrest', forrest_clf), ('mlp', mlp_clf), ('logistic', logistic_clf)],\\\n",
    "                                   voting='soft')\n",
    "\n",
    "\n",
    "############\n",
    "############\n",
    "## train  classifier and predict\n",
    "clf.fit(X_train,y_train)\n",
    "predictions = clf.predict(X_test)\n",
    "\n",
    "\n",
    "#############\n",
    "#############\n",
    "## Write prediction as output file\n",
    "############\n",
    "############\n",
    "idpreds = zip(test_ids, predictions)\n",
    "file = open('sub.csv', 'w')\n",
    "file.write('id,cuisine\\n')\n",
    "for t in idpreds :\n",
    "    file.write(str(t[0])+','+t[1]+'\\n')"
   ]
  }
 ],
 "metadata": {
  "kernelspec": {
   "display_name": "Python 3",
   "language": "python",
   "name": "python3"
  },
  "language_info": {
   "codemirror_mode": {
    "name": "ipython",
    "version": 3
   },
   "file_extension": ".py",
   "mimetype": "text/x-python",
   "name": "python",
   "nbconvert_exporter": "python",
   "pygments_lexer": "ipython3",
   "version": "3.6.5"
  }
 },
 "nbformat": 4,
 "nbformat_minor": 2
}
