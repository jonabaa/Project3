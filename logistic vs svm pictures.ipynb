{
 "cells": [
  {
   "cell_type": "code",
   "execution_count": 14,
   "metadata": {},
   "outputs": [],
   "source": [
    "import numpy as np\n",
    "import pandas as pd\n",
    "import re\n",
    "from sklearn.model_selection import train_test_split\n",
    "import matplotlib\n",
    "import matplotlib.pyplot as plt\n",
    "from mpl_toolkits.axes_grid1 import make_axes_locatable\n",
    "import random\n",
    "from sklearn.metrics import r2_score, mean_squared_error, accuracy_score, log_loss\n",
    "from sklearn import svm #support vector machines\n",
    "from sklearn.feature_extraction.text import CountVectorizer\n",
    "\n",
    "from sklearn import datasets # for the moon!\n",
    "\n",
    "from sklearn.model_selection import cross_val_score\n",
    "from sklearn.ensemble import RandomForestClassifier\n",
    "from sklearn.linear_model import LogisticRegression\n",
    "from sklearn.neural_network import MLPClassifier\n",
    "\n",
    "from functions import *"
   ]
  },
  {
   "cell_type": "code",
   "execution_count": 48,
   "metadata": {},
   "outputs": [
    {
     "name": "stdout",
     "output_type": "stream",
     "text": [
      "[[-1.2  0. ]\n",
      " [-1.1  0. ]\n",
      " [-1.   0. ]\n",
      " [ 1.   0. ]\n",
      " [ 2.   0. ]]\n",
      "[-1 -1 -1  1  1]\n",
      "At -0.50 the svm predicts -1 and the logistic regression predicts -1\n",
      "\n",
      "At -0.39 the svm predicts -1 and the logistic regression predicts -1\n",
      "\n",
      "At -0.28 the svm predicts -1 and the logistic regression predicts -1\n",
      "\n",
      "At -0.17 the svm predicts -1 and the logistic regression predicts -1\n",
      "\n",
      "At -0.06 the svm predicts -1 and the logistic regression predicts -1\n",
      "\n",
      "At 0.06 the svm predicts 1 and the logistic regression predicts -1\n",
      "\n",
      "At 0.17 the svm predicts 1 and the logistic regression predicts 1\n",
      "\n",
      "At 0.28 the svm predicts 1 and the logistic regression predicts 1\n",
      "\n",
      "At 0.39 the svm predicts 1 and the logistic regression predicts 1\n",
      "\n",
      "At 0.50 the svm predicts 1 and the logistic regression predicts 1\n",
      "\n"
     ]
    },
    {
     "data": {
      "image/png": "[encoded data removed]",
      "text/plain": [
       "<Figure size 432x288 with 1 Axes>"
      ]
     },
     "metadata": {},
     "output_type": "display_data"
    },
    {
     "data": {
      "image/png": "[encoded data removed]",
      "text/plain": [
       "<Figure size 432x288 with 1 Axes>"
      ]
     },
     "metadata": {},
     "output_type": "display_data"
    }
   ],
   "source": [
    "def plot_decision_boundary(pred_func, X, y, title):\n",
    "    # Set min and max values and give it some padding\n",
    "    x_min, x_max = X[:, 0].min() - .5, X[:, 0].max() + .5\n",
    "    y_min, y_max = X[:, 1].min() - .5, X[:, 1].max() + .5\n",
    "    h = 0.01\n",
    "    # Generate a grid of points with distance h between them\n",
    "    xx, yy = np.meshgrid(np.arange(x_min, x_max, h), np.arange(y_min, y_max, h))\n",
    "    # Predict the function value for the whole gid\n",
    "    Z = pred_func(np.c_[xx.ravel(), yy.ravel()])\n",
    "    Z = Z.reshape(xx.shape)\n",
    "    # Plot the contour and training examples\n",
    "    plt.contourf(xx, yy, Z, cmap=plt.cm.Spectral)\n",
    "    plt.scatter(X[:, 0], X[:, 1], c=y, cmap=plt.cm.Spectral)\n",
    "    plt.title(title)\n",
    "    plt.show()\n",
    "\n",
    "def visualize(clf, X, y, title = ''):\n",
    "    # plt.scatter(X[:, 0], X[:, 1], s=40, c=y, cmap=plt.cm.Spectral)\n",
    "    # plt.show()\n",
    "    plot_decision_boundary( lambda x: clf.predict(x), X, y, title)\n",
    "\n",
    "X = np.array([[-1.2,0],[-1.1,0],[-1,0],[1,0],[2,0]])\n",
    "y = np.array([-1, -1, -1, 1, 1])\n",
    "\n",
    "print(X)\n",
    "print(y)\n",
    "\n",
    "log_clf = LogisticRegression()\n",
    "log_clf.fit(X,y)\n",
    "svm_clf = svm.LinearSVC()\n",
    "svm_clf.fit(X,y)\n",
    "\n",
    "for x in np.linspace(-0.5,.5,10) :\n",
    "    print(\"At %.2f the svm predicts %d and the logistic regression predicts %d\" % (x, svm_clf.predict(np.array([[x,0]])), log_clf.predict(np.array([[x,0]]))))\n",
    "    print(\"\")\n",
    "    \n",
    "visualize(log_clf, X,y, 'Logistic regression')\n",
    "visualize(svm_clf, X,y, 'SVM classifier')"
   ]
  }
 ],
 "metadata": {
  "kernelspec": {
   "display_name": "Python 3",
   "language": "python",
   "name": "python3"
  },
  "language_info": {
   "codemirror_mode": {
    "name": "ipython",
    "version": 3
   },
   "file_extension": ".py",
   "mimetype": "text/x-python",
   "name": "python",
   "nbconvert_exporter": "python",
   "pygments_lexer": "ipython3",
   "version": "3.6.5"
  }
 },
 "nbformat": 4,
 "nbformat_minor": 2
}
