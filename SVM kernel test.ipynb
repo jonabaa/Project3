{
 "cells": [
  {
   "cell_type": "markdown",
   "metadata": {},
   "source": [
    "## Inputs"
   ]
  },
  {
   "cell_type": "code",
   "execution_count": 1,
   "metadata": {},
   "outputs": [
    {
     "name": "stderr",
     "output_type": "stream",
     "text": [
      "C:\\Users\\Admin\\Anaconda3\\lib\\site-packages\\h5py\\__init__.py:36: FutureWarning: Conversion of the second argument of issubdtype from `float` to `np.floating` is deprecated. In future, it will be treated as `np.float64 == np.dtype(float).type`.\n",
      "  from ._conv import register_converters as _register_converters\n"
     ]
    }
   ],
   "source": [
    "import numpy as np\n",
    "import pandas as pd\n",
    "import re\n",
    "from sklearn.model_selection import train_test_split\n",
    "import matplotlib\n",
    "import matplotlib.pyplot as plt\n",
    "from mpl_toolkits.axes_grid1 import make_axes_locatable\n",
    "import random\n",
    "from sklearn.metrics import r2_score, mean_squared_error, accuracy_score, log_loss\n",
    "from sklearn import svm #support vector machines\n",
    "from sklearn.feature_extraction.text import CountVectorizer\n",
    "\n",
    "from sklearn.model_selection import cross_val_score\n",
    "from sklearn.ensemble import RandomForestClassifier, VotingClassifier\n",
    "from sklearn.linear_model import LogisticRegression\n",
    "from sklearn.neural_network import MLPClassifier\n",
    "\n",
    "from sklearn.metrics import confusion_matrix\n",
    "from sklearn.metrics import classification_report\n",
    "\n",
    "from functions import *"
   ]
  },
  {
   "cell_type": "markdown",
   "metadata": {},
   "source": [
    "## Read in data"
   ]
  },
  {
   "cell_type": "code",
   "execution_count": 2,
   "metadata": {},
   "outputs": [
    {
     "name": "stdout",
     "output_type": "stream",
     "text": [
      "There are 39774 recipies and 1781 feautres\n"
     ]
    }
   ],
   "source": [
    "# load data, \n",
    "# not using a cleaning function\n",
    "# dropping ingredients used in less than 0.00013 recipies\n",
    "\n",
    "X, y, features = get_design_matrix(min_df = 0.00013)\n",
    "\n",
    "print(\"There are %d recipies and %d feautres\" % (X.shape[0], len(features)))\n",
    "\n",
    "x_train, x_test, y_train, y_test = train_test_split(X, y, test_size = 0.2)\n",
    "\n",
    "# The set of different cuisines\n",
    "data = pd.read_json('train.json')\n",
    "cuisines = data.cuisine.unique()"
   ]
  },
  {
   "cell_type": "markdown",
   "metadata": {},
   "source": [
    "## Test svm kernels"
   ]
  },
  {
   "cell_type": "code",
   "execution_count": 3,
   "metadata": {},
   "outputs": [
    {
     "name": "stdout",
     "output_type": "stream",
     "text": [
      "Using the kernel linear we get an accuracy of 0.7747\n",
      "Using the kernel poly we get an accuracy of 0.1967\n",
      "Using the kernel rbf we get an accuracy of 0.3573\n"
     ]
    }
   ],
   "source": [
    "# fit the model\n",
    "for kernel in ('linear', 'poly', 'rbf'):\n",
    "    clf = svm.SVC(kernel=kernel, degree = 2, C = 0.1)\n",
    "    clf.fit(x_train, y_train)\n",
    "    preds = clf.predict(x_test)\n",
    "    print(\"Using the kernel %s we get an accuracy of %.4f\" % (kernel, accuracy_score(y_test, preds)))"
   ]
  },
  {
   "cell_type": "markdown",
   "metadata": {},
   "source": [
    "### Systematic test of poly kernels"
   ]
  },
  {
   "cell_type": "code",
   "execution_count": 3,
   "metadata": {},
   "outputs": [
    {
     "data": {
      "image/png": "[encoded data removed]",
      "text/plain": [
       "<Figure size 432x288 with 2 Axes>"
      ]
     },
     "metadata": {},
     "output_type": "display_data"
    },
    {
     "data": {
      "text/plain": [
       "array([[0.19692638, 0.19692638],\n",
       "       [0.19692638, 0.19692638],\n",
       "       [0.20242595, 0.19692638],\n",
       "       [0.42942838, 0.19692638],\n",
       "       [0.6234    , 0.20654302],\n",
       "       [0.74917569, 0.54960725],\n",
       "       [0.73619652, 0.67990794]])"
      ]
     },
     "execution_count": 3,
     "metadata": {},
     "output_type": "execute_result"
    }
   ],
   "source": [
    "def poly_svm_tester(X_train, y_train, C_list = [0.1], degrees = [2], folds = 10, plot = False) :\n",
    "    \"\"\"\n",
    "    Test the svm parameter C and the degree of the poly kernel\n",
    "    using cross validation\n",
    "    \n",
    "    If plot is set to true, show a heatmap of the results\n",
    "    \"\"\"\n",
    "\n",
    "    svm_constructor = (lambda p,q : svm.SVC(kernel = 'poly', C = p, degree = q)) \n",
    "    scores = clf_cross_validator(X_train, y_train, svm_constructor, C_list, degrees, folds = folds, plot = plot, label = 'accuracy')\n",
    "    return scores \n",
    "\n",
    "poly_svm_tester(x_train, y_train, C_list = [0.1, 1, 10, 100, 1000, 100000, 1000000], degrees = [2, 3], folds = 3, plot = True) "
   ]
  }
 ],
 "metadata": {
  "kernelspec": {
   "display_name": "Python 3",
   "language": "python",
   "name": "python3"
  },
  "language_info": {
   "codemirror_mode": {
    "name": "ipython",
    "version": 3
   },
   "file_extension": ".py",
   "mimetype": "text/x-python",
   "name": "python",
   "nbconvert_exporter": "python",
   "pygments_lexer": "ipython3",
   "version": "3.6.5"
  }
 },
 "nbformat": 4,
 "nbformat_minor": 2
}
